{
 "cells": [
  {
   "cell_type": "code",
   "execution_count": 92,
   "id": "current-thumbnail",
   "metadata": {},
   "outputs": [],
   "source": [
    "\n",
    "%matplotlib inline\n",
    "import os\n",
    "import sys\n",
    "import string\n",
    "import numpy as np\n",
    "import matplotlib.pyplot as plt\n",
    "from sympy import *\n",
    "from qm import*\n",
    "from math import*\n",
    "from random import shuffle\n",
    "import random\n",
    "\n",
    "import subprocess"
   ]
  },
  {
   "cell_type": "code",
   "execution_count": 93,
   "id": "young-blend",
   "metadata": {},
   "outputs": [],
   "source": [
    "#with open('saida.txt', 'w') as f: \n",
    "#    teste = subprocess.run(['espresso','nova.pla'],stdout=subprocess.PIPE,text=True)\n",
    "#    saida = teste.stdout\n",
    "#print(saida)\n",
    "#d = open('teste.esp','w')\n",
    "#d.close()\n",
    "#print(teste)"
   ]
  },
  {
   "cell_type": "code",
   "execution_count": 94,
   "id": "creative-investigator",
   "metadata": {},
   "outputs": [
    {
     "name": "stdout",
     "output_type": "stream",
     "text": [
      "8\n"
     ]
    }
   ],
   "source": [
    "temp = open('bbara.kiss2')\n",
    "line_char = temp.readlines()\n",
    "#print(line_char)\n",
    "\n",
    "l = []\n",
    "entrada = []\n",
    "lista_entradas = []\n",
    "saida = []\n",
    "lista_saidas = []\n",
    "\n",
    "estados = []\n",
    "estados = line_char[4:5]\n",
    "\n",
    "atual = []\n",
    "atual_inteiro = []\n",
    "atual_convertido = []\n",
    "\n",
    "proximo = []\n",
    "proximo_inteiro = []\n",
    "proximo_convertido = []\n",
    "\n",
    "espaco_busca = []\n",
    "espaco_aleatorio = []\n",
    "estados_convertido = int(estados[0].split()[1])\n",
    "\n",
    "#define o tamanho do espaço de busca basedado no valor entregue pelo arquivo\n",
    "\n",
    "tamanho_espaco_busca = math.ceil(np.log2(estados_convertido))\n",
    "\n",
    "entrada_input = int(line_char[1][3:])\n",
    "saida_output = int(line_char[2][3:])\n",
    "numero_estados = int(line_char[4][3:])\n",
    "\n",
    "msf_pronta = []\n",
    "\n",
    "l = line_char[5:]\n",
    "\n",
    "#msf_pronta.append(' ')\n",
    "#msf_pronta.append('.type fr')\n",
    "#msf_pronta.append(line_char[1].rstrip())\n",
    "#msf_pronta.append(line_char[2].rstrip())\n",
    "#msf_pronta.append(line_char[3].rstrip())\n",
    "#msf_pronta.append(line_char[4].rstrip())\n",
    "#msf_pronta.append('.kiss'.rstrip())\n",
    "\n",
    "for i in range(len(l)):\n",
    "    entrada = l[i].split()[0]\n",
    "    lista_entradas.append(entrada)\n",
    "    \n",
    "    atual = l[i].split()[1]\n",
    "    proximo = l[i].split()[2]\n",
    "    saida = l[i].split()[3]\n",
    "    lista_saidas.append(saida)\n",
    "    \n",
    "    atual_inteiro = int(atual[2:])\n",
    "    proximo_inteiro = int(proximo[2:])\n",
    "    atual_convertido.append(bin(atual_inteiro)[2:].zfill(tamanho_espaco_busca))\n",
    "    #atual_binario = atual_convertido[i]\n",
    "    proximo_convertido.append(bin(proximo_inteiro)[2:].zfill(tamanho_espaco_busca))\n",
    "    #proximo_binario = proximo_convertido[i]\n",
    "    linha = str(lista_entradas[i])+str(atual_convertido[i])+' '+str(proximo_convertido[i])+str(lista_saidas[i])\n",
    "    msf_pronta.append(linha)\n",
    "    #print(msf_pronta[i])\n",
    "    \n",
    "#msf_pronta.append('.e')\n",
    "comprimento_input = str(len(lista_entradas[0])+len(atual_convertido[0]))\n",
    "comprimento_output = str(len(proximo_convertido[0])+len(lista_saidas[0]))\n",
    "print(comprimento_input)\n",
    "\n",
    "\n",
    "\n",
    "\n",
    "#msf_espresso = []\n",
    "\n",
    "\n",
    "\n",
    "d = open('melhor.pla','w')\n",
    "#d.write('\\n')\n",
    "d.write('.i '+comprimento_input+'\\n')\n",
    "d.write('.o '+comprimento_output+'\\n')\n",
    "d.write(line_char[3])\n",
    "\n",
    "for i in range(len(msf_pronta)):\n",
    "    d.write(msf_pronta[i]+'\\n')\n",
    "#msf_pronta.append('.e'.rstrip())\n",
    "\n",
    "d.close()\n",
    "\n",
    "#msf_espresso = open('teste.pla', \"r\" ,encoding = \"utf8\")\n",
    "\n",
    "#for i in range(len(msf_pronta)):\n",
    "#    print(msf_pronta[i])"
   ]
  },
  {
   "cell_type": "code",
   "execution_count": 95,
   "id": "future-modification",
   "metadata": {},
   "outputs": [
    {
     "name": "stdout",
     "output_type": "stream",
     "text": [
      "None\n"
     ]
    }
   ],
   "source": [
    "#with open('teste_msf.pla', 'w') as f:\n",
    "#    f = subprocess.run(['espresso','teste.pla'], stdout = f,text=True)\n",
    "    \n",
    "\n",
    "#print(f.stdout)\n",
    "    \n",
    "#d = open('teste_msf.pla','r')\n",
    "#tempo = d.readlines()\n",
    "#for i in range(len(tempo)):\n",
    "#    print(tempo[i])\n",
    "\n",
    "#teste = subprocess.run(['espresso'],input = line)"
   ]
  },
  {
   "cell_type": "code",
   "execution_count": 96,
   "id": "familiar-mentor",
   "metadata": {},
   "outputs": [],
   "source": [
    "for i in range (2**tamanho_espaco_busca):\n",
    "        espaco_busca.append(bin(i)[2:].zfill(tamanho_espaco_busca))\n",
    "        #espaco_aleatorio.append(bin(i)[2:].zfill(tamanho_espaco_busca))\n",
    "\n",
    "def cria_nova_msf():\n",
    "    #print(tamanho_espaco_busca)\n",
    "    espaco_aleatorio = espaco_busca.copy()\n",
    "    shuffle(espaco_aleatorio)\n",
    "    return set(espaco_aleatorio)\n",
    "\n",
    "def correspondente(palavra1,palavra2):\n",
    "    #espaco_aleatorio = list(cria_nova_msf())\n",
    "    espaco_aleatorio = palavra2\n",
    "    for i in range(len(espaco_busca)):\n",
    "        if palavra1 == espaco_busca[i]:\n",
    "            return str(espaco_aleatorio[i])\n",
    "        \n",
    "def nova_maquina():\n",
    "    novo_atual = []\n",
    "    novo_proximo = []\n",
    "    nova_msf = []\n",
    "    \n",
    "    #esse trecho faz 5 embaralhamentos da lista para gerar valores aleatorio a cara criacao de uma conjunto de atribuicoes\n",
    "    \n",
    "    espaco_aleatorio = espaco_busca.copy()\n",
    "    for i in range(3):\n",
    "        shuffle(espaco_aleatorio)\n",
    "    \n",
    "    # percebi que esse trecho estava gerando uma nova lista de atribuicoes a cada chamada de teste de correspondencia\n",
    "    # creio que isso estava causando um efeito indesejado, uma que vez isso provavelmente estava gerando inconsistencias \n",
    "    # que podem estar passando batidas\n",
    "    # então agora é criada apenas uma lista que é utilizada para a comparacao entre atual e proximos estados da primeira \n",
    "    # lista e do novo conjunto de atribuicoes\n",
    "    \n",
    "    # aparentemente essa alteração, que pra mim faz sentido, fez cair muito a quantidade de geracao de msf's de tamanho menor que\n",
    "    # a inicial\n",
    "    \n",
    "    for i in range(len(l)):\n",
    "        #print(atual_convertido[i],proximo_convertido[i])\n",
    "        novo_atual.append(correspondente(atual_convertido[i],espaco_aleatorio))\n",
    "        #print(\"novo atual:\",novo_atual[i])\n",
    "        novo_proximo.append(correspondente(proximo_convertido[i],espaco_aleatorio))\n",
    "        #print(\"novo proximo:\",novo_proximo[i])\n",
    "        nova_atrib = str(lista_entradas[i])+str(novo_atual[i])+' '+str(novo_proximo[i])+str(lista_saidas[i])\n",
    "        nova_msf.append(nova_atrib)\n",
    "        \n",
    "    d = open('nova.pla','w')\n",
    "    #d.write('\\n')\n",
    "    d.write('.i '+comprimento_input+'\\n')\n",
    "    d.write('.o '+comprimento_output+'\\n')\n",
    "    d.write(line_char[3])\n",
    "\n",
    "    for i in range(len(msf_pronta)):\n",
    "        d.write(nova_msf[i]+'\\n')\n",
    "    #msf_pronta.append('.e'.rstrip())\n",
    "    \n",
    "    d.close()\n",
    "    \n",
    "    #return nova_msf"
   ]
  },
  {
   "cell_type": "code",
   "execution_count": 97,
   "id": "offshore-manor",
   "metadata": {},
   "outputs": [],
   "source": [
    "#nova_maquina()\n",
    "#teste = subprocess.run(['espresso','nova.pla'],stdout=subprocess.PIPE,universal_newlines=True)\n",
    "#saida = teste.stdout\n",
    "\n",
    "#a = open('melhor.pla','w')\n",
    "#a.write(saida)\n",
    "#a.close()\n",
    "#print(saida)"
   ]
  },
  {
   "cell_type": "code",
   "execution_count": 98,
   "id": "lasting-unemployment",
   "metadata": {},
   "outputs": [],
   "source": [
    "def simplifica_nova_maquina():\n",
    "    teste = subprocess.run(['espresso','nova.pla'],stdout=subprocess.PIPE,universal_newlines=True)\n",
    "    saida = teste.stdout\n",
    "    a = open('nova.pla','w')\n",
    "    a.write(saida)\n",
    "    a.close()\n",
    "    \n",
    "def simplifica_melhor_maquina():\n",
    "    teste = subprocess.run(['espresso','melhor.pla'],stdout=subprocess.PIPE,universal_newlines=True)\n",
    "    saida = teste.stdout\n",
    "    a = open('melhor.pla','w')\n",
    "    a.write(saida)\n",
    "    a.close()"
   ]
  },
  {
   "cell_type": "code",
   "execution_count": 99,
   "id": "charming-seeking",
   "metadata": {},
   "outputs": [],
   "source": [
    "def leitura_nova_msf():\n",
    "    nova = open('nova.pla','r')\n",
    "    line_char = nova.readlines()\n",
    "    custo_nova = int(line_char[2][3:])\n",
    "    nova.close()\n",
    "    return custo_nova"
   ]
  },
  {
   "cell_type": "code",
   "execution_count": 106,
   "id": "broadband-supplier",
   "metadata": {},
   "outputs": [
    {
     "data": {
      "text/plain": [
       "32"
      ]
     },
     "execution_count": 106,
     "metadata": {},
     "output_type": "execute_result"
    }
   ],
   "source": [
    "#simplifica_nova_maquina()\n",
    "#leitura_nova_msf()"
   ]
  },
  {
   "cell_type": "code",
   "execution_count": 101,
   "id": "studied-championship",
   "metadata": {},
   "outputs": [],
   "source": [
    "def leitura_melhor_msf():\n",
    "    melhor = open('melhor.pla','r')\n",
    "    line_char = melhor.readlines()\n",
    "    custo_melhor = int(line_char[2][3:])\n",
    "    melhor.close()\n",
    "    return custo_melhor"
   ]
  },
  {
   "cell_type": "code",
   "execution_count": 102,
   "id": "incomplete-award",
   "metadata": {},
   "outputs": [
    {
     "name": "stdout",
     "output_type": "stream",
     "text": [
      "60\n"
     ]
    }
   ],
   "source": [
    "#b = leitura_melhor_msf()\n",
    "#print(b)"
   ]
  },
  {
   "cell_type": "code",
   "execution_count": 103,
   "id": "sixth-month",
   "metadata": {},
   "outputs": [],
   "source": [
    "def troca_maquina():\n",
    "    nova = open('nova.pla','r')\n",
    "    melhor = open('melhor.pla','w')\n",
    "    nova_lista = nova.readlines()\n",
    "    for i in range(len(nova_lista)):\n",
    "        melhor.write(str(nova_lista[i]))"
   ]
  },
  {
   "cell_type": "code",
   "execution_count": 104,
   "id": "quarterly-plane",
   "metadata": {},
   "outputs": [],
   "source": [
    "#troca_maquina()"
   ]
  },
  {
   "cell_type": "code",
   "execution_count": 105,
   "id": "spoken-guess",
   "metadata": {},
   "outputs": [],
   "source": [
    "def calculo_custo_nova():\n",
    "    transicoes_nova = leitura_nova_msf()\n",
    "    area = transcoes_nova*(2*entrada_input + 3*np.log2(numero_estados) + saida_output)\n",
    "    return area\n",
    "\n",
    "def calculo_custo_melhor():\n",
    "    transicoes_melhor = leitura_melhor_msf()\n",
    "    area = transcoes_melhor*(2*entrada_input + 3*np.log2(numero_estados) + saida_output)\n",
    "    return area\n"
   ]
  },
  {
   "cell_type": "code",
   "execution_count": null,
   "id": "laughing-trinidad",
   "metadata": {},
   "outputs": [],
   "source": [
    "def resfriamento_simulado(temperatura):\n",
    "    temperatura_inicial = temperatura\n",
    "    temperatura_final = 10\n",
    "    simplifica_melhor_maquina()\n",
    "    custo_melhor = calculo_custo_melhor()\n",
    "    print(custo_melhor)\n",
    "    while(temperatura > temperatura_final):\n",
    "        for i in range(2):\n",
    "            nova_maquina()\n",
    "            simplifica_melhor_maquina()\n",
    "            custo_nova = calculo_custo_nova()\n",
    "            probabilidade = np.random.random_sample()\n",
    "            if (custo_nova - custo_melhor <= 0) or (probabilidade < np.exp(-(custo_nova-custo_melhor)/temperatura)):\n",
    "                troca_maquina()\n",
    "                print(\"houve troca\")\n",
    "                \n",
    "            \n",
    "        if temperatura > temperatura/2:\n",
    "            temperatura = temperatura-10\n",
    "        else:\n",
    "            temperatura = temperatura-5"
   ]
  }
 ],
 "metadata": {
  "kernelspec": {
   "display_name": "Python 3",
   "language": "python",
   "name": "python3"
  },
  "language_info": {
   "codemirror_mode": {
    "name": "ipython",
    "version": 3
   },
   "file_extension": ".py",
   "mimetype": "text/x-python",
   "name": "python",
   "nbconvert_exporter": "python",
   "pygments_lexer": "ipython3",
   "version": "3.7.7"
  }
 },
 "nbformat": 4,
 "nbformat_minor": 5
}
